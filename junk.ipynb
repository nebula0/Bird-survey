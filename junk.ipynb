{
 "cells": [
  {
   "cell_type": "markdown",
   "metadata": {},
   "source": [
    "### Bar chart"
   ]
  },
  {
   "cell_type": "code",
   "execution_count": null,
   "metadata": {},
   "outputs": [],
   "source": [
    "# import matplotlib.pyplot as plt\n",
    "# from matplotlib.font_manager import FontProperties\n",
    "# import matplotlib\n",
    "\n",
    "# # 使用 FontProperties 設定字體\n",
    "# matplotlib.rc('font', family='Microsoft JhengHei')\n",
    "# # 假設你的 DataFrame 叫做 df，並且地點的欄位名稱為 '地點'\n",
    "# locations = sorted(df['樣點編號'].unique())\n",
    "\n",
    "# fig, axs = plt.subplots(2, 3, figsize=(15, 10))\n",
    "\n",
    "# for i, location in enumerate(locations):\n",
    "#     ax = axs[i//3, i%3]\n",
    "#     data = df[df['樣點編號'] == location].groupby('鳥種')['數量'].sum().sort_values(ascending=False)\n",
    "#     data.plot(kind='bar', ax=ax, color='C4')\n",
    "#     ax.set_title(location)\n",
    "#     ax.set_ylabel('數量')\n",
    "\n",
    "# plt.tight_layout()\n",
    "# plt.style.context('seaborn-whitegrid')\n",
    "# plt.show()"
   ]
  },
  {
   "cell_type": "markdown",
   "metadata": {},
   "source": [
    "### Chord map"
   ]
  },
  {
   "cell_type": "code",
   "execution_count": null,
   "metadata": {},
   "outputs": [],
   "source": [
    "# Install\n",
    "# 可以用 但吃率 html\n",
    "# \"C:\\Users\\harew\\AppData\\Local\\Temp\\d3blocks\\chord.html\"\n",
    "bird_place_num = df.groupby(['鳥種', '樣點編號'])['數量'].sum().reset_index(name='數量')\n",
    "bird_place_num\n",
    "# Load d3blocks\n",
    "from d3blocks import D3Blocks\n",
    "\n",
    "# Initialize\n",
    "d3 = D3Blocks()\n",
    "\n",
    "# Load example data\n",
    "# df = d3.import_example('energy')\n",
    "\n",
    "# Plot\n",
    "bird_place_num.rename(columns={'鳥種': 'source', '樣點編號': 'target', '數量': 'value'}, inplace=True)\n",
    "d3.chord(bird_place_num, title='Chord Diagram of Bird Species and Places')"
   ]
  },
  {
   "cell_type": "markdown",
   "metadata": {},
   "source": [
    "### Line plot"
   ]
  },
  {
   "cell_type": "code",
   "execution_count": null,
   "metadata": {},
   "outputs": [],
   "source": [
    "import matplotlib.pyplot as plt\n",
    "import matplotlib.dates as mdates\n",
    "\n",
    "# 將 '年', '月', '日', '開始時間\\n（時）', '開始時間\\n（分）' 這些欄位組合成一個 datetime 對象\n",
    "df['開始時間\\n（時）'] = df['開始時間\\n（時）'].astype(int)\n",
    "df['開始時間\\n（分）'] = df['開始時間\\n（分）'].astype(int)\n",
    "df['年'] = df['年'].astype(int)\n",
    "df['月'] = df['月'].astype(int)\n",
    "df['日'] = df['日'].astype(int)\n",
    "df['datetime'] = pd.to_datetime(df['年'].astype(str) + '-' + df['月'].astype(str) + '-' + df['日'].astype(str) + ' ' + df['開始時間\\n（時）'].astype(str) + ':' + df['開始時間\\n（分）'].astype(str))\n",
    "df['datetime_cp'] = pd.to_datetime(df['datetime'])\n",
    "# 將 datetime 列設置為索引\n",
    "df.set_index('datetime', inplace=True)\n",
    "df_mornong = df.between_time('06:00', '12:00')\n",
    "df_afternoon = df.between_time('12:00', '18:00')\n",
    "\n",
    "# 對每個地點和時間點計算鳥種數量\n",
    "bird_counts = df_mornong.groupby(['datetime_cp', '樣點編號'])['鳥種'].nunique()\n",
    "bird_counts = bird_counts.reset_index(name='鳥種數量')\n",
    "\n",
    "# 定義日期範圍\n",
    "bins = pd.date_range(start='2024-03-13 08:00:00', end='2024-05-21 23:38:00', freq='7D')\n",
    "# 創建新的欄位 'week'\n",
    "bird_counts['week'] = pd.cut(bird_counts['datetime_cp'], bins=bins, labels=range(1, len(bins)), right=True)\n",
    "\n",
    "# 繪製折線圖\n",
    "fig, ax = plt.subplots()\n",
    "\n",
    "for location in bird_counts['樣點編號'].unique():\n",
    "    location_data = bird_counts[bird_counts['樣點編號'] == location]\n",
    "    weekly_counts = location_data.groupby('week')['鳥種數量'].mean()\n",
    "    ax.plot(weekly_counts.index, weekly_counts.values, label=location)\n",
    "\n",
    "# 設置 x 軸的標籤\n",
    "\n",
    "ax.set_xlabel('Week')\n",
    "\n",
    "# 旋轉 x 軸的標籤\n",
    "plt.xticks(rotation=90)\n",
    "\n",
    "plt.legend()\n",
    "plt.show()"
   ]
  }
 ],
 "metadata": {
  "language_info": {
   "name": "python"
  }
 },
 "nbformat": 4,
 "nbformat_minor": 2
}
